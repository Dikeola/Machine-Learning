{
  "metadata": {
    "kernelspec": {
      "language": "python",
      "display_name": "Python 3",
      "name": "python3"
    },
    "language_info": {
      "name": "python",
      "version": "3.10.12",
      "mimetype": "text/x-python",
      "codemirror_mode": {
        "name": "ipython",
        "version": 3
      },
      "pygments_lexer": "ipython3",
      "nbconvert_exporter": "python",
      "file_extension": ".py"
    },
    "kaggle": {
      "accelerator": "none",
      "dataSources": [
        {
          "sourceId": 7020742,
          "sourceType": "datasetVersion",
          "datasetId": 4037188
        }
      ],
      "dockerImageVersionId": 30626,
      "isInternetEnabled": true,
      "language": "python",
      "sourceType": "notebook",
      "isGpuEnabled": false
    },
    "colab": {
      "provenance": []
    }
  },
  "nbformat_minor": 0,
  "nbformat": 4,
  "cells": [
    {
      "cell_type": "code",
      "source": [
        "# This Python 3 environment comes with many helpful analytics libraries installed\n",
        "# It is defined by the kaggle/python Docker image: https://github.com/kaggle/docker-python\n",
        "# For example, here's several helpful packages to load\n",
        "\n",
        "import numpy as np # linear algebra\n",
        "import pandas as pd # data processing, CSV file I/O (e.g. pd.read_csv)\n",
        "import matplotlib.pyplot as plt\n",
        "import seaborn as sns\n",
        "# Input data files are available in the read-only \"../input/\" directory\n",
        "# For example, running this (by clicking run or pressing Shift+Enter) will list all files under the input directory\n",
        "\n",
        "import os\n",
        "for dirname, _, filenames in os.walk('/kaggle/input'):\n",
        "    for filename in filenames:\n",
        "        print(os.path.join(dirname, filename))\n",
        "\n",
        "# You can write up to 20GB to the current directory (/kaggle/working/) that gets preserved as output when you create a version using \"Save & Run All\"\n",
        "# You can also write temporary files to /kaggle/temp/, but they won't be saved outside of the current session"
      ],
      "metadata": {
        "_uuid": "8f2839f25d086af736a60e9eeb907d3b93b6e0e5",
        "_cell_guid": "b1076dfc-b9ad-4769-8c92-a6c4dae69d19",
        "execution": {
          "iopub.status.busy": "2023-12-22T20:17:03.984610Z",
          "iopub.execute_input": "2023-12-22T20:17:03.985302Z",
          "iopub.status.idle": "2023-12-22T20:17:04.754608Z",
          "shell.execute_reply.started": "2023-12-22T20:17:03.985266Z",
          "shell.execute_reply": "2023-12-22T20:17:04.753508Z"
        },
        "trusted": true,
        "id": "eES2TZVMat00",
        "outputId": "00d2e278-a807-4d25-f5d9-766e4f7a10d4"
      },
      "execution_count": null,
      "outputs": [
        {
          "name": "stdout",
          "text": "/kaggle/input/housing-price-prediction-data/housing_price_dataset.csv\n",
          "output_type": "stream"
        }
      ]
    },
    {
      "cell_type": "markdown",
      "source": [
        "**Goal: Creating a machine-learning model to predict housing prices."
      ],
      "metadata": {
        "id": "gdAFJvF8at05"
      }
    },
    {
      "cell_type": "code",
      "source": [
        "df = pd.read_csv('/kaggle/input/housing-price-prediction-data/housing_price_dataset.csv')"
      ],
      "metadata": {
        "execution": {
          "iopub.status.busy": "2023-12-22T20:17:04.756670Z",
          "iopub.execute_input": "2023-12-22T20:17:04.757167Z",
          "iopub.status.idle": "2023-12-22T20:17:04.844632Z",
          "shell.execute_reply.started": "2023-12-22T20:17:04.757128Z",
          "shell.execute_reply": "2023-12-22T20:17:04.843340Z"
        },
        "trusted": true,
        "id": "DtdvOVzPat06"
      },
      "execution_count": null,
      "outputs": []
    },
    {
      "cell_type": "code",
      "source": [
        "df.head()"
      ],
      "metadata": {
        "execution": {
          "iopub.status.busy": "2023-12-22T20:17:04.846616Z",
          "iopub.execute_input": "2023-12-22T20:17:04.847113Z",
          "iopub.status.idle": "2023-12-22T20:17:04.879835Z",
          "shell.execute_reply.started": "2023-12-22T20:17:04.847078Z",
          "shell.execute_reply": "2023-12-22T20:17:04.878741Z"
        },
        "trusted": true,
        "id": "GTqHyTmwat07",
        "outputId": "7983eb9c-9b62-4c14-a630-350afa1e545c"
      },
      "execution_count": null,
      "outputs": [
        {
          "execution_count": 5,
          "output_type": "execute_result",
          "data": {
            "text/plain": "   SquareFeet  Bedrooms  Bathrooms Neighborhood  YearBuilt          Price\n0        2126         4          1        Rural       1969  215355.283618\n1        2459         3          2        Rural       1980  195014.221626\n2        1860         2          1       Suburb       1970  306891.012076\n3        2294         2          1        Urban       1996  206786.787153\n4        2130         5          2       Suburb       2001  272436.239065",
            "text/html": "<div>\n<style scoped>\n    .dataframe tbody tr th:only-of-type {\n        vertical-align: middle;\n    }\n\n    .dataframe tbody tr th {\n        vertical-align: top;\n    }\n\n    .dataframe thead th {\n        text-align: right;\n    }\n</style>\n<table border=\"1\" class=\"dataframe\">\n  <thead>\n    <tr style=\"text-align: right;\">\n      <th></th>\n      <th>SquareFeet</th>\n      <th>Bedrooms</th>\n      <th>Bathrooms</th>\n      <th>Neighborhood</th>\n      <th>YearBuilt</th>\n      <th>Price</th>\n    </tr>\n  </thead>\n  <tbody>\n    <tr>\n      <th>0</th>\n      <td>2126</td>\n      <td>4</td>\n      <td>1</td>\n      <td>Rural</td>\n      <td>1969</td>\n      <td>215355.283618</td>\n    </tr>\n    <tr>\n      <th>1</th>\n      <td>2459</td>\n      <td>3</td>\n      <td>2</td>\n      <td>Rural</td>\n      <td>1980</td>\n      <td>195014.221626</td>\n    </tr>\n    <tr>\n      <th>2</th>\n      <td>1860</td>\n      <td>2</td>\n      <td>1</td>\n      <td>Suburb</td>\n      <td>1970</td>\n      <td>306891.012076</td>\n    </tr>\n    <tr>\n      <th>3</th>\n      <td>2294</td>\n      <td>2</td>\n      <td>1</td>\n      <td>Urban</td>\n      <td>1996</td>\n      <td>206786.787153</td>\n    </tr>\n    <tr>\n      <th>4</th>\n      <td>2130</td>\n      <td>5</td>\n      <td>2</td>\n      <td>Suburb</td>\n      <td>2001</td>\n      <td>272436.239065</td>\n    </tr>\n  </tbody>\n</table>\n</div>"
          },
          "metadata": {}
        }
      ]
    },
    {
      "cell_type": "code",
      "source": [
        "df.info()"
      ],
      "metadata": {
        "execution": {
          "iopub.status.busy": "2023-12-22T20:17:04.882980Z",
          "iopub.execute_input": "2023-12-22T20:17:04.883693Z",
          "iopub.status.idle": "2023-12-22T20:17:04.916986Z",
          "shell.execute_reply.started": "2023-12-22T20:17:04.883651Z",
          "shell.execute_reply": "2023-12-22T20:17:04.915893Z"
        },
        "trusted": true,
        "id": "Gm_TQ932at07",
        "outputId": "0431ab36-d7fd-4a83-cdbc-6f857f20cb92"
      },
      "execution_count": null,
      "outputs": [
        {
          "name": "stdout",
          "text": "<class 'pandas.core.frame.DataFrame'>\nRangeIndex: 50000 entries, 0 to 49999\nData columns (total 6 columns):\n #   Column        Non-Null Count  Dtype  \n---  ------        --------------  -----  \n 0   SquareFeet    50000 non-null  int64  \n 1   Bedrooms      50000 non-null  int64  \n 2   Bathrooms     50000 non-null  int64  \n 3   Neighborhood  50000 non-null  object \n 4   YearBuilt     50000 non-null  int64  \n 5   Price         50000 non-null  float64\ndtypes: float64(1), int64(4), object(1)\nmemory usage: 2.3+ MB\n",
          "output_type": "stream"
        }
      ]
    },
    {
      "cell_type": "code",
      "source": [
        "df.isnull().sum()"
      ],
      "metadata": {
        "execution": {
          "iopub.status.busy": "2023-12-22T20:17:04.919054Z",
          "iopub.execute_input": "2023-12-22T20:17:04.919482Z",
          "iopub.status.idle": "2023-12-22T20:17:04.936590Z",
          "shell.execute_reply.started": "2023-12-22T20:17:04.919441Z",
          "shell.execute_reply": "2023-12-22T20:17:04.935517Z"
        },
        "trusted": true,
        "id": "iurQ3d6jat08",
        "outputId": "2d4489ae-342a-433b-acc1-5b558f2532fb"
      },
      "execution_count": null,
      "outputs": [
        {
          "execution_count": 7,
          "output_type": "execute_result",
          "data": {
            "text/plain": "SquareFeet      0\nBedrooms        0\nBathrooms       0\nNeighborhood    0\nYearBuilt       0\nPrice           0\ndtype: int64"
          },
          "metadata": {}
        }
      ]
    },
    {
      "cell_type": "code",
      "source": [
        "df.duplicated().sum()"
      ],
      "metadata": {
        "execution": {
          "iopub.status.busy": "2023-12-22T20:17:04.938049Z",
          "iopub.execute_input": "2023-12-22T20:17:04.938656Z",
          "iopub.status.idle": "2023-12-22T20:17:04.961405Z",
          "shell.execute_reply.started": "2023-12-22T20:17:04.938626Z",
          "shell.execute_reply": "2023-12-22T20:17:04.960542Z"
        },
        "trusted": true,
        "id": "jFd_t37xat08",
        "outputId": "a7de2278-7000-4598-a09b-85ba9a162e4e"
      },
      "execution_count": null,
      "outputs": [
        {
          "execution_count": 8,
          "output_type": "execute_result",
          "data": {
            "text/plain": "0"
          },
          "metadata": {}
        }
      ]
    },
    {
      "cell_type": "markdown",
      "source": [
        "No null or duplicated entries."
      ],
      "metadata": {
        "id": "H8jbUytBat08"
      }
    },
    {
      "cell_type": "code",
      "source": [
        "df.describe(include='all')"
      ],
      "metadata": {
        "execution": {
          "iopub.status.busy": "2023-12-22T20:17:04.962473Z",
          "iopub.execute_input": "2023-12-22T20:17:04.963460Z",
          "iopub.status.idle": "2023-12-22T20:17:05.024317Z",
          "shell.execute_reply.started": "2023-12-22T20:17:04.963417Z",
          "shell.execute_reply": "2023-12-22T20:17:05.023255Z"
        },
        "trusted": true,
        "id": "CsGPaJ3nat09",
        "outputId": "b1f0cca0-494a-4a08-9d3e-dc2d2d2b8e70"
      },
      "execution_count": null,
      "outputs": [
        {
          "execution_count": 9,
          "output_type": "execute_result",
          "data": {
            "text/plain": "          SquareFeet      Bedrooms     Bathrooms Neighborhood     YearBuilt  \\\ncount   50000.000000  50000.000000  50000.000000        50000  50000.000000   \nunique           NaN           NaN           NaN            3           NaN   \ntop              NaN           NaN           NaN       Suburb           NaN   \nfreq             NaN           NaN           NaN        16721           NaN   \nmean     2006.374680      3.498700      1.995420          NaN   1985.404420   \nstd       575.513241      1.116326      0.815851          NaN     20.719377   \nmin      1000.000000      2.000000      1.000000          NaN   1950.000000   \n25%      1513.000000      3.000000      1.000000          NaN   1967.000000   \n50%      2007.000000      3.000000      2.000000          NaN   1985.000000   \n75%      2506.000000      4.000000      3.000000          NaN   2003.000000   \nmax      2999.000000      5.000000      3.000000          NaN   2021.000000   \n\n                Price  \ncount    50000.000000  \nunique            NaN  \ntop               NaN  \nfreq              NaN  \nmean    224827.325151  \nstd      76141.842966  \nmin     -36588.165397  \n25%     169955.860225  \n50%     225052.141166  \n75%     279373.630052  \nmax     492195.259972  ",
            "text/html": "<div>\n<style scoped>\n    .dataframe tbody tr th:only-of-type {\n        vertical-align: middle;\n    }\n\n    .dataframe tbody tr th {\n        vertical-align: top;\n    }\n\n    .dataframe thead th {\n        text-align: right;\n    }\n</style>\n<table border=\"1\" class=\"dataframe\">\n  <thead>\n    <tr style=\"text-align: right;\">\n      <th></th>\n      <th>SquareFeet</th>\n      <th>Bedrooms</th>\n      <th>Bathrooms</th>\n      <th>Neighborhood</th>\n      <th>YearBuilt</th>\n      <th>Price</th>\n    </tr>\n  </thead>\n  <tbody>\n    <tr>\n      <th>count</th>\n      <td>50000.000000</td>\n      <td>50000.000000</td>\n      <td>50000.000000</td>\n      <td>50000</td>\n      <td>50000.000000</td>\n      <td>50000.000000</td>\n    </tr>\n    <tr>\n      <th>unique</th>\n      <td>NaN</td>\n      <td>NaN</td>\n      <td>NaN</td>\n      <td>3</td>\n      <td>NaN</td>\n      <td>NaN</td>\n    </tr>\n    <tr>\n      <th>top</th>\n      <td>NaN</td>\n      <td>NaN</td>\n      <td>NaN</td>\n      <td>Suburb</td>\n      <td>NaN</td>\n      <td>NaN</td>\n    </tr>\n    <tr>\n      <th>freq</th>\n      <td>NaN</td>\n      <td>NaN</td>\n      <td>NaN</td>\n      <td>16721</td>\n      <td>NaN</td>\n      <td>NaN</td>\n    </tr>\n    <tr>\n      <th>mean</th>\n      <td>2006.374680</td>\n      <td>3.498700</td>\n      <td>1.995420</td>\n      <td>NaN</td>\n      <td>1985.404420</td>\n      <td>224827.325151</td>\n    </tr>\n    <tr>\n      <th>std</th>\n      <td>575.513241</td>\n      <td>1.116326</td>\n      <td>0.815851</td>\n      <td>NaN</td>\n      <td>20.719377</td>\n      <td>76141.842966</td>\n    </tr>\n    <tr>\n      <th>min</th>\n      <td>1000.000000</td>\n      <td>2.000000</td>\n      <td>1.000000</td>\n      <td>NaN</td>\n      <td>1950.000000</td>\n      <td>-36588.165397</td>\n    </tr>\n    <tr>\n      <th>25%</th>\n      <td>1513.000000</td>\n      <td>3.000000</td>\n      <td>1.000000</td>\n      <td>NaN</td>\n      <td>1967.000000</td>\n      <td>169955.860225</td>\n    </tr>\n    <tr>\n      <th>50%</th>\n      <td>2007.000000</td>\n      <td>3.000000</td>\n      <td>2.000000</td>\n      <td>NaN</td>\n      <td>1985.000000</td>\n      <td>225052.141166</td>\n    </tr>\n    <tr>\n      <th>75%</th>\n      <td>2506.000000</td>\n      <td>4.000000</td>\n      <td>3.000000</td>\n      <td>NaN</td>\n      <td>2003.000000</td>\n      <td>279373.630052</td>\n    </tr>\n    <tr>\n      <th>max</th>\n      <td>2999.000000</td>\n      <td>5.000000</td>\n      <td>3.000000</td>\n      <td>NaN</td>\n      <td>2021.000000</td>\n      <td>492195.259972</td>\n    </tr>\n  </tbody>\n</table>\n</div>"
          },
          "metadata": {}
        }
      ]
    },
    {
      "cell_type": "markdown",
      "source": [
        "Suburb neighborhood is the most frequent."
      ],
      "metadata": {
        "id": "YD_i6LG3at09"
      }
    },
    {
      "cell_type": "code",
      "source": [
        "df.Neighborhood.value_counts().plot.pie(autopct='%.1f%%',labels=None)\n",
        "plt.ylabel('')\n",
        "plt.legend(labels=df.Neighborhood.value_counts().index)\n",
        "plt.title('Distribution of Neighborhoods',weight=10)"
      ],
      "metadata": {
        "execution": {
          "iopub.status.busy": "2023-12-22T20:17:05.025712Z",
          "iopub.execute_input": "2023-12-22T20:17:05.026147Z",
          "iopub.status.idle": "2023-12-22T20:17:05.350634Z",
          "shell.execute_reply.started": "2023-12-22T20:17:05.026110Z",
          "shell.execute_reply": "2023-12-22T20:17:05.349200Z"
        },
        "trusted": true,
        "id": "vb_MhD-Hat09",
        "outputId": "dca09e98-ad4e-4822-a565-dd81e3b62430"
      },
      "execution_count": null,
      "outputs": [
        {
          "execution_count": 10,
          "output_type": "execute_result",
          "data": {
            "text/plain": "Text(0.5, 1.0, 'Distribution of Neighborhoods')"
          },
          "metadata": {}
        },
        {
          "output_type": "display_data",
          "data": {
            "text/plain": "<Figure size 640x480 with 1 Axes>",
            "image/png": "[encoded data removed]"
          },
          "metadata": {}
        }
      ]
    },
    {
      "cell_type": "code",
      "source": [
        "numerical = df.select_dtypes(exclude='object')"
      ],
      "metadata": {
        "execution": {
          "iopub.status.busy": "2023-12-22T20:17:05.352670Z",
          "iopub.execute_input": "2023-12-22T20:17:05.354052Z",
          "iopub.status.idle": "2023-12-22T20:17:05.363234Z",
          "shell.execute_reply.started": "2023-12-22T20:17:05.353992Z",
          "shell.execute_reply": "2023-12-22T20:17:05.361430Z"
        },
        "trusted": true,
        "id": "qfAyC0Cdat0-"
      },
      "execution_count": null,
      "outputs": []
    },
    {
      "cell_type": "code",
      "source": [
        "sns.heatmap(numerical.corr(),cmap='coolwarm',vmin=-1,center=0,vmax=1,annot=True)\n",
        "plt.title('Correlations')"
      ],
      "metadata": {
        "execution": {
          "iopub.status.busy": "2023-12-22T20:17:05.368684Z",
          "iopub.execute_input": "2023-12-22T20:17:05.369608Z",
          "iopub.status.idle": "2023-12-22T20:17:05.866818Z",
          "shell.execute_reply.started": "2023-12-22T20:17:05.369574Z",
          "shell.execute_reply": "2023-12-22T20:17:05.865766Z"
        },
        "trusted": true,
        "id": "ejIKg33iat0-",
        "outputId": "90716932-0855-4b53-8257-0bea66a0268d"
      },
      "execution_count": null,
      "outputs": [
        {
          "execution_count": 12,
          "output_type": "execute_result",
          "data": {
            "text/plain": "Text(0.5, 1.0, 'Correlations')"
          },
          "metadata": {}
        },
        {
          "output_type": "display_data",
          "data": {
            "text/plain": "<Figure size 640x480 with 2 Axes>",
            "image/png": "[encoded data removed]"
          },
          "metadata": {}
        }
      ]
    },
    {
      "cell_type": "markdown",
      "source": [
        "There is a strong correlation between price and squarefeet; the first model will be created using squarefeet as the predictor."
      ],
      "metadata": {
        "id": "DaFzpq4fat0-"
      }
    },
    {
      "cell_type": "code",
      "source": [
        "sample_df = df.sample(1000, random_state=43)"
      ],
      "metadata": {
        "execution": {
          "iopub.status.busy": "2023-12-22T20:17:05.868326Z",
          "iopub.execute_input": "2023-12-22T20:17:05.869224Z",
          "iopub.status.idle": "2023-12-22T20:17:05.879587Z",
          "shell.execute_reply.started": "2023-12-22T20:17:05.869178Z",
          "shell.execute_reply": "2023-12-22T20:17:05.878474Z"
        },
        "trusted": true,
        "id": "xfXAWXWJat0_"
      },
      "execution_count": null,
      "outputs": []
    },
    {
      "cell_type": "code",
      "source": [
        "import statsmodels.api as sm\n",
        "from sklearn.model_selection import train_test_split"
      ],
      "metadata": {
        "execution": {
          "iopub.status.busy": "2023-12-22T20:17:05.881271Z",
          "iopub.execute_input": "2023-12-22T20:17:05.881701Z",
          "iopub.status.idle": "2023-12-22T20:17:07.676520Z",
          "shell.execute_reply.started": "2023-12-22T20:17:05.881661Z",
          "shell.execute_reply": "2023-12-22T20:17:07.675494Z"
        },
        "trusted": true,
        "id": "z8gxBTc2at0_"
      },
      "execution_count": null,
      "outputs": []
    },
    {
      "cell_type": "code",
      "source": [
        "numerical.columns"
      ],
      "metadata": {
        "execution": {
          "iopub.status.busy": "2023-12-22T20:17:07.677883Z",
          "iopub.execute_input": "2023-12-22T20:17:07.678643Z",
          "iopub.status.idle": "2023-12-22T20:17:07.686747Z",
          "shell.execute_reply.started": "2023-12-22T20:17:07.678601Z",
          "shell.execute_reply": "2023-12-22T20:17:07.685258Z"
        },
        "trusted": true,
        "id": "RoBZnzMmat0_",
        "outputId": "21ae8a97-482f-41c1-e0a1-dd887fed2ba9"
      },
      "execution_count": null,
      "outputs": [
        {
          "execution_count": 15,
          "output_type": "execute_result",
          "data": {
            "text/plain": "Index(['SquareFeet', 'Bedrooms', 'Bathrooms', 'YearBuilt', 'Price'], dtype='object')"
          },
          "metadata": {}
        }
      ]
    },
    {
      "cell_type": "code",
      "source": [
        "x_train,x_test,y_train,y_test = train_test_split(sample_df[numerical.columns[0]],sample_df['Price'],test_size=.25, random_state=42)\n",
        "x_train_constant = sm.add_constant(x_train)\n",
        "model1 = sm.OLS(y_train,x_train_constant).fit()"
      ],
      "metadata": {
        "execution": {
          "iopub.status.busy": "2023-12-22T20:17:07.688382Z",
          "iopub.execute_input": "2023-12-22T20:17:07.689328Z",
          "iopub.status.idle": "2023-12-22T20:17:07.712503Z",
          "shell.execute_reply.started": "2023-12-22T20:17:07.689291Z",
          "shell.execute_reply": "2023-12-22T20:17:07.711096Z"
        },
        "trusted": true,
        "id": "Xi0IinXfat1A"
      },
      "execution_count": null,
      "outputs": []
    },
    {
      "cell_type": "code",
      "source": [
        "model1.rsquared"
      ],
      "metadata": {
        "execution": {
          "iopub.status.busy": "2023-12-22T20:17:07.714358Z",
          "iopub.execute_input": "2023-12-22T20:17:07.715102Z",
          "iopub.status.idle": "2023-12-22T20:17:07.727581Z",
          "shell.execute_reply.started": "2023-12-22T20:17:07.715069Z",
          "shell.execute_reply": "2023-12-22T20:17:07.726670Z"
        },
        "trusted": true,
        "id": "JBg_KpLdat1A",
        "outputId": "b13274d6-7818-46de-9c15-d3a56826f3ef"
      },
      "execution_count": null,
      "outputs": [
        {
          "execution_count": 17,
          "output_type": "execute_result",
          "data": {
            "text/plain": "0.563555744942049"
          },
          "metadata": {}
        }
      ]
    },
    {
      "cell_type": "markdown",
      "source": [
        "this model can explain 56% of the variance in the prices."
      ],
      "metadata": {
        "id": "xePXJSwoat1A"
      }
    },
    {
      "cell_type": "code",
      "source": [
        "model1.params"
      ],
      "metadata": {
        "execution": {
          "iopub.status.busy": "2023-12-22T20:17:07.729043Z",
          "iopub.execute_input": "2023-12-22T20:17:07.729985Z",
          "iopub.status.idle": "2023-12-22T20:17:07.739581Z",
          "shell.execute_reply.started": "2023-12-22T20:17:07.729944Z",
          "shell.execute_reply": "2023-12-22T20:17:07.738768Z"
        },
        "trusted": true,
        "id": "4iE1x3IVat1A",
        "outputId": "d3e97530-2229-4409-ad87-fcda8b3e763d"
      },
      "execution_count": null,
      "outputs": [
        {
          "execution_count": 18,
          "output_type": "execute_result",
          "data": {
            "text/plain": "const         21988.187208\nSquareFeet      100.944023\ndtype: float64"
          },
          "metadata": {}
        }
      ]
    },
    {
      "cell_type": "code",
      "source": [
        "x_test_constant = sm.add_constant(x_test)\n",
        "ypred = model1.predict(x_test_constant)"
      ],
      "metadata": {
        "execution": {
          "iopub.status.busy": "2023-12-22T20:21:22.221386Z",
          "iopub.execute_input": "2023-12-22T20:21:22.221814Z",
          "iopub.status.idle": "2023-12-22T20:21:22.230913Z",
          "shell.execute_reply.started": "2023-12-22T20:21:22.221782Z",
          "shell.execute_reply": "2023-12-22T20:21:22.229942Z"
        },
        "trusted": true,
        "id": "U3g3UiJNat1A"
      },
      "execution_count": null,
      "outputs": []
    },
    {
      "cell_type": "code",
      "source": [
        "from sklearn.metrics import mean_squared_error"
      ],
      "metadata": {
        "execution": {
          "iopub.status.busy": "2023-12-22T20:17:32.580158Z",
          "iopub.execute_input": "2023-12-22T20:17:32.580569Z",
          "iopub.status.idle": "2023-12-22T20:17:32.586750Z",
          "shell.execute_reply.started": "2023-12-22T20:17:32.580537Z",
          "shell.execute_reply": "2023-12-22T20:17:32.585418Z"
        },
        "trusted": true,
        "id": "3GWZBOWvat1B"
      },
      "execution_count": null,
      "outputs": []
    },
    {
      "cell_type": "code",
      "source": [
        "mean_squared_error(ypred,y_test) #mean-squared-error for model 1"
      ],
      "metadata": {
        "execution": {
          "iopub.status.busy": "2023-12-22T20:21:53.300639Z",
          "iopub.execute_input": "2023-12-22T20:21:53.301905Z",
          "iopub.status.idle": "2023-12-22T20:21:53.309144Z",
          "shell.execute_reply.started": "2023-12-22T20:21:53.301848Z",
          "shell.execute_reply": "2023-12-22T20:21:53.308029Z"
        },
        "trusted": true,
        "id": "lJgFxwT5at1B",
        "outputId": "b748d22e-8854-498c-9f13-4b77a8ac6411"
      },
      "execution_count": null,
      "outputs": [
        {
          "execution_count": 23,
          "output_type": "execute_result",
          "data": {
            "text/plain": "2607177741.884214"
          },
          "metadata": {}
        }
      ]
    },
    {
      "cell_type": "code",
      "source": [
        "fitted = model1.predict(x_train_constant)\n",
        "residuals = y_train - fitted"
      ],
      "metadata": {
        "execution": {
          "iopub.status.busy": "2023-12-22T20:24:01.942225Z",
          "iopub.execute_input": "2023-12-22T20:24:01.942638Z",
          "iopub.status.idle": "2023-12-22T20:24:01.949904Z",
          "shell.execute_reply.started": "2023-12-22T20:24:01.942606Z",
          "shell.execute_reply": "2023-12-22T20:24:01.948675Z"
        },
        "trusted": true,
        "id": "jMGaoE2Lat1B"
      },
      "execution_count": null,
      "outputs": []
    },
    {
      "cell_type": "code",
      "source": [
        "sns.histplot(residuals)"
      ],
      "metadata": {
        "execution": {
          "iopub.status.busy": "2023-12-22T20:24:18.120370Z",
          "iopub.execute_input": "2023-12-22T20:24:18.120757Z",
          "iopub.status.idle": "2023-12-22T20:24:18.484765Z",
          "shell.execute_reply.started": "2023-12-22T20:24:18.120728Z",
          "shell.execute_reply": "2023-12-22T20:24:18.483926Z"
        },
        "trusted": true,
        "id": "pQDu_0z-at1B",
        "outputId": "f8714d78-02b8-4184-c343-521ea4165f4a"
      },
      "execution_count": null,
      "outputs": [
        {
          "execution_count": 25,
          "output_type": "execute_result",
          "data": {
            "text/plain": "<Axes: ylabel='Count'>"
          },
          "metadata": {}
        },
        {
          "output_type": "display_data",
          "data": {
            "text/plain": "<Figure size 640x480 with 1 Axes>",
            "image/png": "[encoded data removed]"
          },
          "metadata": {}
        }
      ]
    },
    {
      "cell_type": "markdown",
      "source": [
        "Residuals(distance between points and line of best fit) are normally distributed."
      ],
      "metadata": {
        "id": "LlTFbxgcat1C"
      }
    },
    {
      "cell_type": "code",
      "source": [
        "sns.scatterplot(x=fitted,y=residuals)"
      ],
      "metadata": {
        "execution": {
          "iopub.status.busy": "2023-12-22T20:25:48.402980Z",
          "iopub.execute_input": "2023-12-22T20:25:48.403609Z",
          "iopub.status.idle": "2023-12-22T20:25:48.757787Z",
          "shell.execute_reply.started": "2023-12-22T20:25:48.403567Z",
          "shell.execute_reply": "2023-12-22T20:25:48.756659Z"
        },
        "trusted": true,
        "id": "0zyGVJZ4at1C",
        "outputId": "9765a8f7-869f-473a-e784-34a88506379d"
      },
      "execution_count": null,
      "outputs": [
        {
          "execution_count": 27,
          "output_type": "execute_result",
          "data": {
            "text/plain": "<Axes: >"
          },
          "metadata": {}
        },
        {
          "output_type": "display_data",
          "data": {
            "text/plain": "<Figure size 640x480 with 1 Axes>",
            "image/png": "[encoded data removed]"
          },
          "metadata": {}
        }
      ]
    },
    {
      "cell_type": "markdown",
      "source": [
        "There is no pattern in the scatter-plot.\n",
        "These are rules for validating models."
      ],
      "metadata": {
        "id": "0Vddt-3jat1C"
      }
    },
    {
      "cell_type": "code",
      "source": [
        "x_train,x_test,y_train,y_test = train_test_split(sample_df[['SquareFeet','Bedrooms','Bathrooms']],sample_df['Price'],test_size=0.25)\n",
        "x_train_constant = sm.add_constant(x_train)\n",
        "model2 = sm.OLS(y_train,x_train_constant).fit()"
      ],
      "metadata": {
        "execution": {
          "iopub.status.busy": "2023-12-22T21:18:28.732065Z",
          "iopub.execute_input": "2023-12-22T21:18:28.732506Z",
          "iopub.status.idle": "2023-12-22T21:18:28.747816Z",
          "shell.execute_reply.started": "2023-12-22T21:18:28.732471Z",
          "shell.execute_reply": "2023-12-22T21:18:28.746564Z"
        },
        "trusted": true,
        "id": "MGRqyUrnat1C"
      },
      "execution_count": null,
      "outputs": []
    },
    {
      "cell_type": "code",
      "source": [
        "mean_squared_error(model2.predict(sm.add_constant(x_test)),y_test)"
      ],
      "metadata": {
        "execution": {
          "iopub.status.busy": "2023-12-22T21:19:45.143450Z",
          "iopub.execute_input": "2023-12-22T21:19:45.143882Z",
          "iopub.status.idle": "2023-12-22T21:19:45.155651Z",
          "shell.execute_reply.started": "2023-12-22T21:19:45.143827Z",
          "shell.execute_reply": "2023-12-22T21:19:45.154758Z"
        },
        "trusted": true,
        "id": "gC3ZdacBat1C",
        "outputId": "3c30bbaf-41e7-4b56-ae30-4d73d28e83eb"
      },
      "execution_count": null,
      "outputs": [
        {
          "execution_count": 52,
          "output_type": "execute_result",
          "data": {
            "text/plain": "2745739371.7359376"
          },
          "metadata": {}
        }
      ]
    },
    {
      "cell_type": "code",
      "source": [
        "model2.rsquared"
      ],
      "metadata": {
        "execution": {
          "iopub.status.busy": "2023-12-22T20:32:29.853092Z",
          "iopub.execute_input": "2023-12-22T20:32:29.853542Z",
          "iopub.status.idle": "2023-12-22T20:32:29.861988Z",
          "shell.execute_reply.started": "2023-12-22T20:32:29.853506Z",
          "shell.execute_reply": "2023-12-22T20:32:29.860837Z"
        },
        "trusted": true,
        "id": "N9wzJkjSat1D",
        "outputId": "223968c7-c677-4a00-c4f8-e287f24a9def"
      },
      "execution_count": null,
      "outputs": [
        {
          "execution_count": 32,
          "output_type": "execute_result",
          "data": {
            "text/plain": "0.5612254603031761"
          },
          "metadata": {}
        }
      ]
    },
    {
      "cell_type": "markdown",
      "source": [
        "Model 2 doesnt perform better than 1.\n",
        "\n",
        "Checking if any of the added predictors are useful"
      ],
      "metadata": {
        "id": "K7HifGdoat1D"
      }
    },
    {
      "cell_type": "code",
      "source": [
        "from statsmodels.stats.anova import anova_lm\n",
        "model_1_2 = anova_lm(model1,model2)\n",
        "model_1_2"
      ],
      "metadata": {
        "execution": {
          "iopub.status.busy": "2023-12-22T20:34:16.381164Z",
          "iopub.execute_input": "2023-12-22T20:34:16.381569Z",
          "iopub.status.idle": "2023-12-22T20:34:16.405555Z",
          "shell.execute_reply.started": "2023-12-22T20:34:16.381537Z",
          "shell.execute_reply": "2023-12-22T20:34:16.403943Z"
        },
        "trusted": true,
        "id": "Wr2jD-Qkat1D",
        "outputId": "4afb15bb-9183-4c2f-c280-03900760118d"
      },
      "execution_count": null,
      "outputs": [
        {
          "execution_count": 33,
          "output_type": "execute_result",
          "data": {
            "text/plain": "   df_resid           ssr  df_diff       ss_diff         F    Pr(>F)\n0     748.0  1.882144e+12      0.0           NaN       NaN       NaN\n1     746.0  1.856333e+12      2.0  2.581096e+10  5.186294  0.005796",
            "text/html": "<div>\n<style scoped>\n    .dataframe tbody tr th:only-of-type {\n        vertical-align: middle;\n    }\n\n    .dataframe tbody tr th {\n        vertical-align: top;\n    }\n\n    .dataframe thead th {\n        text-align: right;\n    }\n</style>\n<table border=\"1\" class=\"dataframe\">\n  <thead>\n    <tr style=\"text-align: right;\">\n      <th></th>\n      <th>df_resid</th>\n      <th>ssr</th>\n      <th>df_diff</th>\n      <th>ss_diff</th>\n      <th>F</th>\n      <th>Pr(&gt;F)</th>\n    </tr>\n  </thead>\n  <tbody>\n    <tr>\n      <th>0</th>\n      <td>748.0</td>\n      <td>1.882144e+12</td>\n      <td>0.0</td>\n      <td>NaN</td>\n      <td>NaN</td>\n      <td>NaN</td>\n    </tr>\n    <tr>\n      <th>1</th>\n      <td>746.0</td>\n      <td>1.856333e+12</td>\n      <td>2.0</td>\n      <td>2.581096e+10</td>\n      <td>5.186294</td>\n      <td>0.005796</td>\n    </tr>\n  </tbody>\n</table>\n</div>"
          },
          "metadata": {}
        }
      ]
    },
    {
      "cell_type": "markdown",
      "source": [
        "the p-value of 0.005796 shows that there is atleast one predictor that contributes to housing price.\n",
        "Interpretation: A small p-value (typically less than the chosen significance level(0.05) suggests that you can reject the null hypothesis. In the context of model comparison, a small p-value indicates that the additional predictors (bedrooms and bathrooms) significantly contribute to explaining the variation in house prices compared to a model with only square footage."
      ],
      "metadata": {
        "id": "CQOnwqBnat1E"
      }
    },
    {
      "cell_type": "code",
      "source": [
        "x_train,x_test,y_train,y_test = train_test_split(sample_df[['SquareFeet','Bedrooms']],sample_df['Price'],test_size=0.25)\n",
        "x_train_constant = sm.add_constant(x_train)\n",
        "model3 = sm.OLS(y_train,x_train_constant).fit()"
      ],
      "metadata": {
        "execution": {
          "iopub.status.busy": "2023-12-22T21:06:05.818845Z",
          "iopub.execute_input": "2023-12-22T21:06:05.820176Z",
          "iopub.status.idle": "2023-12-22T21:06:05.831836Z",
          "shell.execute_reply.started": "2023-12-22T21:06:05.820129Z",
          "shell.execute_reply": "2023-12-22T21:06:05.830657Z"
        },
        "trusted": true,
        "id": "b7rD2yi4at1E"
      },
      "execution_count": null,
      "outputs": []
    },
    {
      "cell_type": "code",
      "source": [
        "model_1_3 = anova_lm(model1,model3)\n",
        "model_1_3"
      ],
      "metadata": {
        "execution": {
          "iopub.status.busy": "2023-12-22T21:06:38.383141Z",
          "iopub.execute_input": "2023-12-22T21:06:38.383571Z",
          "iopub.status.idle": "2023-12-22T21:06:38.404279Z",
          "shell.execute_reply.started": "2023-12-22T21:06:38.383536Z",
          "shell.execute_reply": "2023-12-22T21:06:38.402850Z"
        },
        "trusted": true,
        "id": "TurxJHjRat1E",
        "outputId": "fdb8ae30-7263-4812-97c7-5a385377dcef"
      },
      "execution_count": null,
      "outputs": [
        {
          "execution_count": 35,
          "output_type": "execute_result",
          "data": {
            "text/plain": "   df_resid           ssr  df_diff       ss_diff          F  Pr(>F)\n0     748.0  1.882144e+12      0.0           NaN        NaN     NaN\n1     747.0  1.967425e+12      1.0 -8.528168e+10 -32.380094     1.0",
            "text/html": "<div>\n<style scoped>\n    .dataframe tbody tr th:only-of-type {\n        vertical-align: middle;\n    }\n\n    .dataframe tbody tr th {\n        vertical-align: top;\n    }\n\n    .dataframe thead th {\n        text-align: right;\n    }\n</style>\n<table border=\"1\" class=\"dataframe\">\n  <thead>\n    <tr style=\"text-align: right;\">\n      <th></th>\n      <th>df_resid</th>\n      <th>ssr</th>\n      <th>df_diff</th>\n      <th>ss_diff</th>\n      <th>F</th>\n      <th>Pr(&gt;F)</th>\n    </tr>\n  </thead>\n  <tbody>\n    <tr>\n      <th>0</th>\n      <td>748.0</td>\n      <td>1.882144e+12</td>\n      <td>0.0</td>\n      <td>NaN</td>\n      <td>NaN</td>\n      <td>NaN</td>\n    </tr>\n    <tr>\n      <th>1</th>\n      <td>747.0</td>\n      <td>1.967425e+12</td>\n      <td>1.0</td>\n      <td>-8.528168e+10</td>\n      <td>-32.380094</td>\n      <td>1.0</td>\n    </tr>\n  </tbody>\n</table>\n</div>"
          },
          "metadata": {}
        }
      ]
    },
    {
      "cell_type": "code",
      "source": [
        "x_train,x_test,y_train,y_test = train_test_split(sample_df[['SquareFeet','Bathrooms']],sample_df['Price'],test_size=0.25)\n",
        "x_train_constant = sm.add_constant(x_train)\n",
        "model4 = sm.OLS(y_train,x_train_constant).fit()"
      ],
      "metadata": {
        "execution": {
          "iopub.status.busy": "2023-12-22T21:08:21.015844Z",
          "iopub.execute_input": "2023-12-22T21:08:21.016249Z",
          "iopub.status.idle": "2023-12-22T21:08:21.027713Z",
          "shell.execute_reply.started": "2023-12-22T21:08:21.016218Z",
          "shell.execute_reply": "2023-12-22T21:08:21.026367Z"
        },
        "trusted": true,
        "id": "2QwtrW22at1F"
      },
      "execution_count": null,
      "outputs": []
    },
    {
      "cell_type": "code",
      "source": [
        "model_1_4 = anova_lm(model1,model4)\n",
        "model_1_4"
      ],
      "metadata": {
        "execution": {
          "iopub.status.busy": "2023-12-22T21:09:23.293376Z",
          "iopub.execute_input": "2023-12-22T21:09:23.293993Z",
          "iopub.status.idle": "2023-12-22T21:09:23.314223Z",
          "shell.execute_reply.started": "2023-12-22T21:09:23.293947Z",
          "shell.execute_reply": "2023-12-22T21:09:23.312788Z"
        },
        "trusted": true,
        "id": "2ZaXFvB-at1F",
        "outputId": "6e9acca6-03c6-4249-aa84-78b471d7afc1"
      },
      "execution_count": null,
      "outputs": [
        {
          "execution_count": 37,
          "output_type": "execute_result",
          "data": {
            "text/plain": "   df_resid           ssr  df_diff       ss_diff          F  Pr(>F)\n0     748.0  1.882144e+12      0.0           NaN        NaN     NaN\n1     747.0  1.936019e+12      1.0 -5.387582e+10 -20.787621     1.0",
            "text/html": "<div>\n<style scoped>\n    .dataframe tbody tr th:only-of-type {\n        vertical-align: middle;\n    }\n\n    .dataframe tbody tr th {\n        vertical-align: top;\n    }\n\n    .dataframe thead th {\n        text-align: right;\n    }\n</style>\n<table border=\"1\" class=\"dataframe\">\n  <thead>\n    <tr style=\"text-align: right;\">\n      <th></th>\n      <th>df_resid</th>\n      <th>ssr</th>\n      <th>df_diff</th>\n      <th>ss_diff</th>\n      <th>F</th>\n      <th>Pr(&gt;F)</th>\n    </tr>\n  </thead>\n  <tbody>\n    <tr>\n      <th>0</th>\n      <td>748.0</td>\n      <td>1.882144e+12</td>\n      <td>0.0</td>\n      <td>NaN</td>\n      <td>NaN</td>\n      <td>NaN</td>\n    </tr>\n    <tr>\n      <th>1</th>\n      <td>747.0</td>\n      <td>1.936019e+12</td>\n      <td>1.0</td>\n      <td>-5.387582e+10</td>\n      <td>-20.787621</td>\n      <td>1.0</td>\n    </tr>\n  </tbody>\n</table>\n</div>"
          },
          "metadata": {}
        }
      ]
    },
    {
      "cell_type": "code",
      "source": [
        "model1.aic"
      ],
      "metadata": {
        "execution": {
          "iopub.status.busy": "2023-12-22T21:09:59.541711Z",
          "iopub.execute_input": "2023-12-22T21:09:59.542881Z",
          "iopub.status.idle": "2023-12-22T21:09:59.548608Z",
          "shell.execute_reply.started": "2023-12-22T21:09:59.542819Z",
          "shell.execute_reply": "2023-12-22T21:09:59.547779Z"
        },
        "trusted": true,
        "id": "zNFcpws_at1G",
        "outputId": "efc53aa0-fbe5-4446-f65a-6da6f241c10b"
      },
      "execution_count": null,
      "outputs": [
        {
          "execution_count": 38,
          "output_type": "execute_result",
          "data": {
            "text/plain": "18364.9272544318"
          },
          "metadata": {}
        }
      ]
    },
    {
      "cell_type": "code",
      "source": [
        "model2.aic"
      ],
      "metadata": {
        "execution": {
          "iopub.status.busy": "2023-12-22T21:10:09.853128Z",
          "iopub.execute_input": "2023-12-22T21:10:09.853780Z",
          "iopub.status.idle": "2023-12-22T21:10:09.861469Z",
          "shell.execute_reply.started": "2023-12-22T21:10:09.853735Z",
          "shell.execute_reply": "2023-12-22T21:10:09.860209Z"
        },
        "trusted": true,
        "id": "FKIFmcGVat1G",
        "outputId": "e30802c7-c80c-4cf4-e3bb-f552bb9775c9"
      },
      "execution_count": null,
      "outputs": [
        {
          "execution_count": 39,
          "output_type": "execute_result",
          "data": {
            "text/plain": "18358.570882808388"
          },
          "metadata": {}
        }
      ]
    },
    {
      "cell_type": "code",
      "source": [
        "model3.aic"
      ],
      "metadata": {
        "execution": {
          "iopub.status.busy": "2023-12-22T21:10:34.021400Z",
          "iopub.execute_input": "2023-12-22T21:10:34.021817Z",
          "iopub.status.idle": "2023-12-22T21:10:34.029747Z",
          "shell.execute_reply.started": "2023-12-22T21:10:34.021781Z",
          "shell.execute_reply": "2023-12-22T21:10:34.028553Z"
        },
        "trusted": true,
        "id": "LIe_9VeLat1H",
        "outputId": "875a1024-3c5c-4485-c60e-c1418ae1a83e"
      },
      "execution_count": null,
      "outputs": [
        {
          "execution_count": 41,
          "output_type": "execute_result",
          "data": {
            "text/plain": "18400.16304211867"
          },
          "metadata": {}
        }
      ]
    },
    {
      "cell_type": "code",
      "source": [
        "model4.aic"
      ],
      "metadata": {
        "execution": {
          "iopub.status.busy": "2023-12-22T21:10:29.615158Z",
          "iopub.execute_input": "2023-12-22T21:10:29.616181Z",
          "iopub.status.idle": "2023-12-22T21:10:29.623632Z",
          "shell.execute_reply.started": "2023-12-22T21:10:29.616141Z",
          "shell.execute_reply": "2023-12-22T21:10:29.622432Z"
        },
        "trusted": true,
        "id": "9j2pko2Tat1H",
        "outputId": "fde9d377-10db-43d1-9096-171624a5114d"
      },
      "execution_count": null,
      "outputs": [
        {
          "execution_count": 40,
          "output_type": "execute_result",
          "data": {
            "text/plain": "18388.094264402658"
          },
          "metadata": {}
        }
      ]
    },
    {
      "cell_type": "markdown",
      "source": [
        "model2 seems to be the best model."
      ],
      "metadata": {
        "id": "BocVzyU5at1I"
      }
    },
    {
      "cell_type": "code",
      "source": [
        "model1.rsquared_adj"
      ],
      "metadata": {
        "execution": {
          "iopub.status.busy": "2023-12-22T21:11:53.917825Z",
          "iopub.execute_input": "2023-12-22T21:11:53.918472Z",
          "iopub.status.idle": "2023-12-22T21:11:53.924580Z",
          "shell.execute_reply.started": "2023-12-22T21:11:53.918437Z",
          "shell.execute_reply": "2023-12-22T21:11:53.923628Z"
        },
        "trusted": true,
        "id": "bFyi78K9at1I",
        "outputId": "41b0dedb-5aec-4ad8-8e68-9133793726d5"
      },
      "execution_count": null,
      "outputs": [
        {
          "execution_count": 42,
          "output_type": "execute_result",
          "data": {
            "text/plain": "0.5629722633176399"
          },
          "metadata": {}
        }
      ]
    },
    {
      "cell_type": "code",
      "source": [
        "model2.rsquared_adj"
      ],
      "metadata": {
        "execution": {
          "iopub.status.busy": "2023-12-22T21:12:02.894697Z",
          "iopub.execute_input": "2023-12-22T21:12:02.895105Z",
          "iopub.status.idle": "2023-12-22T21:12:02.901843Z",
          "shell.execute_reply.started": "2023-12-22T21:12:02.895075Z",
          "shell.execute_reply": "2023-12-22T21:12:02.900628Z"
        },
        "trusted": true,
        "id": "kmrEKXnzat1J",
        "outputId": "43b1ac71-8297-4fdb-f4c1-e1593f66c2d8"
      },
      "execution_count": null,
      "outputs": [
        {
          "execution_count": 43,
          "output_type": "execute_result",
          "data": {
            "text/plain": "0.5594609514304008"
          },
          "metadata": {}
        }
      ]
    },
    {
      "cell_type": "code",
      "source": [
        "model3.rsquared_adj"
      ],
      "metadata": {
        "execution": {
          "iopub.status.busy": "2023-12-22T21:12:19.608361Z",
          "iopub.execute_input": "2023-12-22T21:12:19.608754Z",
          "iopub.status.idle": "2023-12-22T21:12:19.616141Z",
          "shell.execute_reply.started": "2023-12-22T21:12:19.608724Z",
          "shell.execute_reply": "2023-12-22T21:12:19.614917Z"
        },
        "trusted": true,
        "id": "0qmNDn-Sat1J",
        "outputId": "07c05cad-96dc-4a92-9edb-3d886e991830"
      },
      "execution_count": null,
      "outputs": [
        {
          "execution_count": 44,
          "output_type": "execute_result",
          "data": {
            "text/plain": "0.531855159761444"
          },
          "metadata": {}
        }
      ]
    },
    {
      "cell_type": "code",
      "source": [
        "model4.rsquared_adj"
      ],
      "metadata": {
        "execution": {
          "iopub.status.busy": "2023-12-22T21:12:31.492960Z",
          "iopub.execute_input": "2023-12-22T21:12:31.494163Z",
          "iopub.status.idle": "2023-12-22T21:12:31.500254Z",
          "shell.execute_reply.started": "2023-12-22T21:12:31.494118Z",
          "shell.execute_reply": "2023-12-22T21:12:31.499263Z"
        },
        "trusted": true,
        "id": "ec8f8j_Wat1J",
        "outputId": "854a49a8-43aa-44ab-8882-47e52335c2bb"
      },
      "execution_count": null,
      "outputs": [
        {
          "execution_count": 45,
          "output_type": "execute_result",
          "data": {
            "text/plain": "0.5691165375727897"
          },
          "metadata": {}
        }
      ]
    },
    {
      "cell_type": "code",
      "source": [
        "model1.bic"
      ],
      "metadata": {
        "execution": {
          "iopub.status.busy": "2023-12-22T21:13:30.291225Z",
          "iopub.execute_input": "2023-12-22T21:13:30.291655Z",
          "iopub.status.idle": "2023-12-22T21:13:30.298905Z",
          "shell.execute_reply.started": "2023-12-22T21:13:30.291620Z",
          "shell.execute_reply": "2023-12-22T21:13:30.297799Z"
        },
        "trusted": true,
        "id": "dDhev13uat1J",
        "outputId": "e3bc572f-aac8-4b71-a2c6-4dbb4e3fe55a"
      },
      "execution_count": null,
      "outputs": [
        {
          "execution_count": 46,
          "output_type": "execute_result",
          "data": {
            "text/plain": "18374.16740084486"
          },
          "metadata": {}
        }
      ]
    },
    {
      "cell_type": "code",
      "source": [
        "model2.bic"
      ],
      "metadata": {
        "execution": {
          "iopub.status.busy": "2023-12-22T21:13:30.301528Z",
          "iopub.execute_input": "2023-12-22T21:13:30.302259Z",
          "iopub.status.idle": "2023-12-22T21:13:30.313182Z",
          "shell.execute_reply.started": "2023-12-22T21:13:30.302225Z",
          "shell.execute_reply": "2023-12-22T21:13:30.312298Z"
        },
        "trusted": true,
        "id": "xMlqcDR9at1J",
        "outputId": "3d514ba3-dff8-4a3c-e56c-10a44a5a87a1"
      },
      "execution_count": null,
      "outputs": [
        {
          "execution_count": 47,
          "output_type": "execute_result",
          "data": {
            "text/plain": "18377.051175634508"
          },
          "metadata": {}
        }
      ]
    },
    {
      "cell_type": "code",
      "source": [
        "model3.bic"
      ],
      "metadata": {
        "execution": {
          "iopub.status.busy": "2023-12-22T21:13:33.921691Z",
          "iopub.execute_input": "2023-12-22T21:13:33.922469Z",
          "iopub.status.idle": "2023-12-22T21:13:33.930130Z",
          "shell.execute_reply.started": "2023-12-22T21:13:33.922433Z",
          "shell.execute_reply": "2023-12-22T21:13:33.928847Z"
        },
        "trusted": true,
        "id": "-K-TJTcnat1J",
        "outputId": "563da2fe-bc73-479e-856f-e4ac2f41ea1e"
      },
      "execution_count": null,
      "outputs": [
        {
          "execution_count": 48,
          "output_type": "execute_result",
          "data": {
            "text/plain": "18414.02326173826"
          },
          "metadata": {}
        }
      ]
    },
    {
      "cell_type": "code",
      "source": [
        "model4.bic"
      ],
      "metadata": {
        "execution": {
          "iopub.status.busy": "2023-12-22T21:13:36.792041Z",
          "iopub.execute_input": "2023-12-22T21:13:36.792438Z",
          "iopub.status.idle": "2023-12-22T21:13:36.798716Z",
          "shell.execute_reply.started": "2023-12-22T21:13:36.792407Z",
          "shell.execute_reply": "2023-12-22T21:13:36.797904Z"
        },
        "trusted": true,
        "id": "3kAf5IS9at1K",
        "outputId": "43beb27c-3e7b-46c9-d16c-1d69f9cd335d"
      },
      "execution_count": null,
      "outputs": [
        {
          "execution_count": 49,
          "output_type": "execute_result",
          "data": {
            "text/plain": "18401.954484022248"
          },
          "metadata": {}
        }
      ]
    },
    {
      "cell_type": "code",
      "source": [
        "model2 is the best model. Despite having a slightly larger meas-squared-error compared to model1, the additional variables contribute significantly to the pricing of houses; this was proven by the low p-value."
      ],
      "metadata": {
        "id": "azLmU9p8at1K"
      },
      "execution_count": null,
      "outputs": []
    }
  ]
}